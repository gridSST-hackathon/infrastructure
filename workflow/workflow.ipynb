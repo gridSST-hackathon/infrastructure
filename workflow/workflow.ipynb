{
 "cells": [
  {
   "cell_type": "markdown",
   "id": "846dccda-ae4f-46d5-97c7-da38b37fab25",
   "metadata": {},
   "source": [
    "# Grid SST Workflow\n",
    "\n",
    "Execute the entire Grid SST workflow: input -> pre-process -> gp-regression -> ?"
   ]
  },
  {
   "cell_type": "code",
   "execution_count": 2,
   "id": "67f4d64c-4059-4382-ac41-2a3af77985f9",
   "metadata": {},
   "outputs": [],
   "source": [
    "# Standard imports\n",
    "from pathlib import Path\n",
    "\n",
    "# Local imports\n",
    "from ipynb.fs.full.preprocess import run_preprocessing"
   ]
  },
  {
   "cell_type": "code",
   "execution_count": 3,
   "id": "62bf69ad-3ae3-4cbb-97f7-0995c5fae395",
   "metadata": {},
   "outputs": [],
   "source": [
    "# Constants\n",
    "OUT = Path(\"/home/jovyan/shared-readwrite/workflow_data/preprocess\")"
   ]
  },
  {
   "cell_type": "code",
   "execution_count": 4,
   "id": "efafe92b-d6c6-4749-b847-55b37dc2b7ad",
   "metadata": {},
   "outputs": [],
   "source": [
    "# VIIRS L2P Sensor data\n",
    "short_name = 'VIIRS_NPP-STAR-L2P-v2.80'\n",
    "provider = 'POCLOUD'\n",
    "temporal_range = '2022-07-18T00:00:00Z,2022-07-24T23:59:59Z'\n",
    "bbox = \"-40,0,-35,5\"\n",
    "qc_threshold = 4"
   ]
  },
  {
   "cell_type": "code",
   "execution_count": 5,
   "id": "cffb4a3c-b6b4-4e61-a349-d334699da3d7",
   "metadata": {},
   "outputs": [
    {
     "name": "stderr",
     "output_type": "stream",
     "text": [
      "100%|██████████| 31/31 [05:16<00:00, 10.22s/it]\n"
     ]
    }
   ],
   "source": [
    "run_preprocessing(short_name, provider, temporal_range, bbox, qc_threshold, OUT)"
   ]
  },
  {
   "cell_type": "code",
   "execution_count": null,
   "id": "fc6997ea-5c9e-466b-b698-8eb8cf106a8b",
   "metadata": {},
   "outputs": [],
   "source": []
  }
 ],
 "metadata": {
  "kernelspec": {
   "display_name": "Python 3 (ipykernel)",
   "language": "python",
   "name": "python3"
  },
  "language_info": {
   "codemirror_mode": {
    "name": "ipython",
    "version": 3
   },
   "file_extension": ".py",
   "mimetype": "text/x-python",
   "name": "python",
   "nbconvert_exporter": "python",
   "pygments_lexer": "ipython3",
   "version": "3.10.5"
  }
 },
 "nbformat": 4,
 "nbformat_minor": 5
}
